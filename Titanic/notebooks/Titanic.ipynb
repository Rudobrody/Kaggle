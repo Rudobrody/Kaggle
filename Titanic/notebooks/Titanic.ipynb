{
 "cells": [
  {
   "cell_type": "code",
   "execution_count": null,
   "metadata": {},
   "outputs": [
    {
     "name": "stdout",
     "output_type": "stream",
     "text": [
      "<built-in method float of Tensor object at 0x00000180070E3890>\n",
      "Loss: 0.73692387342453\n"
     ]
    }
   ],
   "source": [
    "import torch\n",
    "import torch.nn as nn\n",
    "import torch.optim as optim\n",
    "import pandas\n",
    "from ../scripts/preprocessing.py \n",
    "\n",
    "# Define a simple neural network\n",
    "class SimpleNN(nn.Module):\n",
    "    def __init__(self, input_size, hidden_size, output_size):\n",
    "        super().__init__()\n",
    "        self.fc1 = nn.Linear(input_size, hidden_size)  # Input to hidden layer\n",
    "        self.relu = nn.ReLU()  # Activation function\n",
    "        self.fc2 = nn.Linear(hidden_size, output_size)  # Hidden to output layer\n",
    "    \n",
    "    def forward(self, x):\n",
    "        x = self.fc1(x)\n",
    "        x = self.relu(x)\n",
    "        x = self.fc2(x)\n",
    "        return x\n",
    "\n",
    "# Create a model instance\n",
    "input_size = 4  # Example: 4 input features\n",
    "hidden_size = 10\n",
    "output_size = 1  # Example: 3 output classes\n",
    "model = SimpleNN(input_size, hidden_size, output_size)\n",
    "\n",
    "# Define loss function and optimizer\n",
    "criterion = nn.BCEWithLogitsLoss()\n",
    "optimizer = optim.Adam(model.parameters(), lr=0.01)\n",
    "\n",
    "# Example random input tensor (batch of 5 samples, each with 4 features)\n",
    "x_train = torch.randn(5, input_size)\n",
    "y_train = torch.tensor([0, 1, 0, 1, 0], dtype=torch.float32).view(-1, 1)# Example labels (class indices)\n",
    "\n",
    "# Training loop (1 epoch for simplicity)\n",
    "optimizer.zero_grad()  # Zero the gradients\n",
    "outputs = model(x_train)  # Forward pass\n",
    "print((torch.sigmoid(outputs)>0.5).float)\n",
    "loss = criterion(outputs, y_train)  # Compute loss\n",
    "loss.backward()  # Backpropagation\n",
    "optimizer.step()  # Update weights\n",
    "\n",
    "print(f\"Loss: {loss.item()}\")\n"
   ]
  },
  {
   "cell_type": "code",
   "execution_count": null,
   "metadata": {},
   "outputs": [],
   "source": []
  }
 ],
 "metadata": {
  "kernelspec": {
   "display_name": "base",
   "language": "python",
   "name": "python3"
  },
  "language_info": {
   "codemirror_mode": {
    "name": "ipython",
    "version": 3
   },
   "file_extension": ".py",
   "mimetype": "text/x-python",
   "name": "python",
   "nbconvert_exporter": "python",
   "pygments_lexer": "ipython3",
   "version": "3.12.7"
  }
 },
 "nbformat": 4,
 "nbformat_minor": 2
}
